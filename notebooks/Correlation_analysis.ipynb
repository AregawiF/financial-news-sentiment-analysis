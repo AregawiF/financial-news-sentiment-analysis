{
 "cells": [
  {
   "cell_type": "code",
   "execution_count": 142,
   "metadata": {},
   "outputs": [],
   "source": [
    "import pandas as pd\n",
    "import matplotlib.pyplot as plt\n",
    "import seaborn as sns"
   ]
  },
  {
   "cell_type": "code",
   "execution_count": 143,
   "metadata": {},
   "outputs": [],
   "source": [
    "df_news = pd.read_csv(\"../src/data/analysed_analyst_ratings/sentiment_analysed_ratings.csv\")"
   ]
  },
  {
   "cell_type": "code",
   "execution_count": 144,
   "metadata": {},
   "outputs": [
    {
     "name": "stdout",
     "output_type": "stream",
     "text": [
      "Merged Stock Data:\n"
     ]
    },
    {
     "data": {
      "text/html": [
       "<div>\n",
       "<style scoped>\n",
       "    .dataframe tbody tr th:only-of-type {\n",
       "        vertical-align: middle;\n",
       "    }\n",
       "\n",
       "    .dataframe tbody tr th {\n",
       "        vertical-align: top;\n",
       "    }\n",
       "\n",
       "    .dataframe thead th {\n",
       "        text-align: right;\n",
       "    }\n",
       "</style>\n",
       "<table border=\"1\" class=\"dataframe\">\n",
       "  <thead>\n",
       "    <tr style=\"text-align: right;\">\n",
       "      <th></th>\n",
       "      <th>Date</th>\n",
       "      <th>Open</th>\n",
       "      <th>High</th>\n",
       "      <th>Low</th>\n",
       "      <th>Close</th>\n",
       "      <th>Adj Close</th>\n",
       "      <th>Volume</th>\n",
       "      <th>Dividends</th>\n",
       "      <th>Stock Splits</th>\n",
       "      <th>Stock</th>\n",
       "    </tr>\n",
       "  </thead>\n",
       "  <tbody>\n",
       "    <tr>\n",
       "      <th>0</th>\n",
       "      <td>1980-12-12</td>\n",
       "      <td>0.128348</td>\n",
       "      <td>0.128906</td>\n",
       "      <td>0.128348</td>\n",
       "      <td>0.128348</td>\n",
       "      <td>0.098943</td>\n",
       "      <td>469033600</td>\n",
       "      <td>0.0</td>\n",
       "      <td>0.0</td>\n",
       "      <td>AAPL</td>\n",
       "    </tr>\n",
       "    <tr>\n",
       "      <th>1</th>\n",
       "      <td>1980-12-15</td>\n",
       "      <td>0.122210</td>\n",
       "      <td>0.122210</td>\n",
       "      <td>0.121652</td>\n",
       "      <td>0.121652</td>\n",
       "      <td>0.093781</td>\n",
       "      <td>175884800</td>\n",
       "      <td>0.0</td>\n",
       "      <td>0.0</td>\n",
       "      <td>AAPL</td>\n",
       "    </tr>\n",
       "    <tr>\n",
       "      <th>2</th>\n",
       "      <td>1980-12-16</td>\n",
       "      <td>0.113281</td>\n",
       "      <td>0.113281</td>\n",
       "      <td>0.112723</td>\n",
       "      <td>0.112723</td>\n",
       "      <td>0.086898</td>\n",
       "      <td>105728000</td>\n",
       "      <td>0.0</td>\n",
       "      <td>0.0</td>\n",
       "      <td>AAPL</td>\n",
       "    </tr>\n",
       "    <tr>\n",
       "      <th>3</th>\n",
       "      <td>1980-12-17</td>\n",
       "      <td>0.115513</td>\n",
       "      <td>0.116071</td>\n",
       "      <td>0.115513</td>\n",
       "      <td>0.115513</td>\n",
       "      <td>0.089049</td>\n",
       "      <td>86441600</td>\n",
       "      <td>0.0</td>\n",
       "      <td>0.0</td>\n",
       "      <td>AAPL</td>\n",
       "    </tr>\n",
       "    <tr>\n",
       "      <th>4</th>\n",
       "      <td>1980-12-18</td>\n",
       "      <td>0.118862</td>\n",
       "      <td>0.119420</td>\n",
       "      <td>0.118862</td>\n",
       "      <td>0.118862</td>\n",
       "      <td>0.091630</td>\n",
       "      <td>73449600</td>\n",
       "      <td>0.0</td>\n",
       "      <td>0.0</td>\n",
       "      <td>AAPL</td>\n",
       "    </tr>\n",
       "  </tbody>\n",
       "</table>\n",
       "</div>"
      ],
      "text/plain": [
       "         Date      Open      High       Low     Close  Adj Close     Volume  \\\n",
       "0  1980-12-12  0.128348  0.128906  0.128348  0.128348   0.098943  469033600   \n",
       "1  1980-12-15  0.122210  0.122210  0.121652  0.121652   0.093781  175884800   \n",
       "2  1980-12-16  0.113281  0.113281  0.112723  0.112723   0.086898  105728000   \n",
       "3  1980-12-17  0.115513  0.116071  0.115513  0.115513   0.089049   86441600   \n",
       "4  1980-12-18  0.118862  0.119420  0.118862  0.118862   0.091630   73449600   \n",
       "\n",
       "   Dividends  Stock Splits Stock  \n",
       "0        0.0           0.0  AAPL  \n",
       "1        0.0           0.0  AAPL  \n",
       "2        0.0           0.0  AAPL  \n",
       "3        0.0           0.0  AAPL  \n",
       "4        0.0           0.0  AAPL  "
      ]
     },
     "execution_count": 144,
     "metadata": {},
     "output_type": "execute_result"
    }
   ],
   "source": [
    "file_paths = {\n",
    "    'Apple': '../src/data/yfinance_data/AAPL_historical_data.csv',\n",
    "    'Amazon': '../src/data/yfinance_data/AMZN_historical_data.csv',\n",
    "    'Google': '../src/data/yfinance_data/GOOG_historical_data.csv',\n",
    "    'Meta': '../src/data/yfinance_data/META_historical_data.csv',\n",
    "    'Microsoft': '../src/data/yfinance_data/MSFT_historical_data.csv',\n",
    "    'Tesla': '../src/data/yfinance_data/TSLA_historical_data.csv',\n",
    "    'Nvidia': '../src/data/yfinance_data/NVDA_historical_data.csv'\n",
    "}\n",
    "\n",
    "AAPL_data = pd.read_csv(file_paths['Apple'])\n",
    "AMZN_data = pd.read_csv(file_paths['Amazon'])\n",
    "GOOG_data = pd.read_csv(file_paths['Google'])\n",
    "META_data = pd.read_csv(file_paths['Meta'])\n",
    "MSFT_data = pd.read_csv(file_paths['Microsoft'])\n",
    "NVDA_data = pd.read_csv(file_paths['Nvidia'])\n",
    "TSLA_data = pd.read_csv(file_paths['Tesla'])\n",
    "\n",
    "# Add a 'Stock' column to identify each dataset\n",
    "AAPL_data['Stock'] = 'AAPL'\n",
    "AMZN_data['Stock'] = 'AMZN'\n",
    "GOOG_data['Stock'] = 'GOOG'\n",
    "META_data['Stock'] = 'META'\n",
    "MSFT_data['Stock'] = 'MSFT'\n",
    "NVDA_data['Stock'] = 'NVDA'\n",
    "TSLA_data['Stock'] = 'TSLA'\n",
    "\n",
    "# Merge the data into one DataFrame\n",
    "df_stock = pd.concat(\n",
    "    [AAPL_data, AMZN_data, GOOG_data, META_data, MSFT_data, NVDA_data, TSLA_data],\n",
    "    ignore_index=True\n",
    ")\n",
    "\n",
    "# Display the merged data\n",
    "print(\"Merged Stock Data:\")\n",
    "df_stock.head()"
   ]
  },
  {
   "cell_type": "code",
   "execution_count": 145,
   "metadata": {},
   "outputs": [
    {
     "name": "stdout",
     "output_type": "stream",
     "text": [
      "(1407328, 12)\n"
     ]
    },
    {
     "data": {
      "text/html": [
       "<div>\n",
       "<style scoped>\n",
       "    .dataframe tbody tr th:only-of-type {\n",
       "        vertical-align: middle;\n",
       "    }\n",
       "\n",
       "    .dataframe tbody tr th {\n",
       "        vertical-align: top;\n",
       "    }\n",
       "\n",
       "    .dataframe thead th {\n",
       "        text-align: right;\n",
       "    }\n",
       "</style>\n",
       "<table border=\"1\" class=\"dataframe\">\n",
       "  <thead>\n",
       "    <tr style=\"text-align: right;\">\n",
       "      <th></th>\n",
       "      <th>Unnamed: 0</th>\n",
       "      <th>headline</th>\n",
       "      <th>url</th>\n",
       "      <th>publisher</th>\n",
       "      <th>date</th>\n",
       "      <th>stock</th>\n",
       "      <th>headline_length</th>\n",
       "      <th>day_of_week</th>\n",
       "      <th>email_domain</th>\n",
       "      <th>cleaned_headline</th>\n",
       "      <th>sentiment_score</th>\n",
       "      <th>sentiment_label</th>\n",
       "    </tr>\n",
       "  </thead>\n",
       "  <tbody>\n",
       "    <tr>\n",
       "      <th>0</th>\n",
       "      <td>0</td>\n",
       "      <td>Stocks That Hit 52-Week Highs On Friday</td>\n",
       "      <td>https://www.benzinga.com/news/20/06/16190091/s...</td>\n",
       "      <td>Benzinga Insights</td>\n",
       "      <td>2020-06-05 10:30:54-04:00</td>\n",
       "      <td>A</td>\n",
       "      <td>39</td>\n",
       "      <td>Friday</td>\n",
       "      <td>NaN</td>\n",
       "      <td>stocks hit 52week highs friday</td>\n",
       "      <td>0.0</td>\n",
       "      <td>neutral</td>\n",
       "    </tr>\n",
       "    <tr>\n",
       "      <th>1</th>\n",
       "      <td>1</td>\n",
       "      <td>Stocks That Hit 52-Week Highs On Wednesday</td>\n",
       "      <td>https://www.benzinga.com/news/20/06/16170189/s...</td>\n",
       "      <td>Benzinga Insights</td>\n",
       "      <td>2020-06-03 10:45:20-04:00</td>\n",
       "      <td>A</td>\n",
       "      <td>42</td>\n",
       "      <td>Wednesday</td>\n",
       "      <td>NaN</td>\n",
       "      <td>stocks hit 52week highs wednesday</td>\n",
       "      <td>0.0</td>\n",
       "      <td>neutral</td>\n",
       "    </tr>\n",
       "  </tbody>\n",
       "</table>\n",
       "</div>"
      ],
      "text/plain": [
       "   Unnamed: 0                                    headline  \\\n",
       "0           0     Stocks That Hit 52-Week Highs On Friday   \n",
       "1           1  Stocks That Hit 52-Week Highs On Wednesday   \n",
       "\n",
       "                                                 url          publisher  \\\n",
       "0  https://www.benzinga.com/news/20/06/16190091/s...  Benzinga Insights   \n",
       "1  https://www.benzinga.com/news/20/06/16170189/s...  Benzinga Insights   \n",
       "\n",
       "                        date stock  headline_length day_of_week email_domain  \\\n",
       "0  2020-06-05 10:30:54-04:00     A               39      Friday          NaN   \n",
       "1  2020-06-03 10:45:20-04:00     A               42   Wednesday          NaN   \n",
       "\n",
       "                    cleaned_headline  sentiment_score sentiment_label  \n",
       "0     stocks hit 52week highs friday              0.0         neutral  \n",
       "1  stocks hit 52week highs wednesday              0.0         neutral  "
      ]
     },
     "execution_count": 145,
     "metadata": {},
     "output_type": "execute_result"
    }
   ],
   "source": [
    "print(df_news.shape)\n",
    "df_news.head(2)"
   ]
  },
  {
   "cell_type": "code",
   "execution_count": 146,
   "metadata": {},
   "outputs": [
    {
     "name": "stdout",
     "output_type": "stream",
     "text": [
      "(45428, 10)\n"
     ]
    },
    {
     "data": {
      "text/html": [
       "<div>\n",
       "<style scoped>\n",
       "    .dataframe tbody tr th:only-of-type {\n",
       "        vertical-align: middle;\n",
       "    }\n",
       "\n",
       "    .dataframe tbody tr th {\n",
       "        vertical-align: top;\n",
       "    }\n",
       "\n",
       "    .dataframe thead th {\n",
       "        text-align: right;\n",
       "    }\n",
       "</style>\n",
       "<table border=\"1\" class=\"dataframe\">\n",
       "  <thead>\n",
       "    <tr style=\"text-align: right;\">\n",
       "      <th></th>\n",
       "      <th>Date</th>\n",
       "      <th>Open</th>\n",
       "      <th>High</th>\n",
       "      <th>Low</th>\n",
       "      <th>Close</th>\n",
       "      <th>Adj Close</th>\n",
       "      <th>Volume</th>\n",
       "      <th>Dividends</th>\n",
       "      <th>Stock Splits</th>\n",
       "      <th>Stock</th>\n",
       "    </tr>\n",
       "  </thead>\n",
       "  <tbody>\n",
       "    <tr>\n",
       "      <th>0</th>\n",
       "      <td>1980-12-12</td>\n",
       "      <td>0.128348</td>\n",
       "      <td>0.128906</td>\n",
       "      <td>0.128348</td>\n",
       "      <td>0.128348</td>\n",
       "      <td>0.098943</td>\n",
       "      <td>469033600</td>\n",
       "      <td>0.0</td>\n",
       "      <td>0.0</td>\n",
       "      <td>AAPL</td>\n",
       "    </tr>\n",
       "    <tr>\n",
       "      <th>1</th>\n",
       "      <td>1980-12-15</td>\n",
       "      <td>0.122210</td>\n",
       "      <td>0.122210</td>\n",
       "      <td>0.121652</td>\n",
       "      <td>0.121652</td>\n",
       "      <td>0.093781</td>\n",
       "      <td>175884800</td>\n",
       "      <td>0.0</td>\n",
       "      <td>0.0</td>\n",
       "      <td>AAPL</td>\n",
       "    </tr>\n",
       "  </tbody>\n",
       "</table>\n",
       "</div>"
      ],
      "text/plain": [
       "         Date      Open      High       Low     Close  Adj Close     Volume  \\\n",
       "0  1980-12-12  0.128348  0.128906  0.128348  0.128348   0.098943  469033600   \n",
       "1  1980-12-15  0.122210  0.122210  0.121652  0.121652   0.093781  175884800   \n",
       "\n",
       "   Dividends  Stock Splits Stock  \n",
       "0        0.0           0.0  AAPL  \n",
       "1        0.0           0.0  AAPL  "
      ]
     },
     "execution_count": 146,
     "metadata": {},
     "output_type": "execute_result"
    }
   ],
   "source": [
    "print(df_stock.shape)\n",
    "df_stock.head(2)"
   ]
  },
  {
   "cell_type": "markdown",
   "metadata": {},
   "source": [
    "Normalizing dates"
   ]
  },
  {
   "cell_type": "code",
   "execution_count": 147,
   "metadata": {},
   "outputs": [
    {
     "name": "stdout",
     "output_type": "stream",
     "text": [
      "                       date                                           headline\n",
      "0 2020-06-05 10:30:54-04:00            Stocks That Hit 52-Week Highs On Friday\n",
      "1 2020-06-03 10:45:20-04:00         Stocks That Hit 52-Week Highs On Wednesday\n",
      "2 2020-05-26 04:30:07-04:00                      71 Biggest Movers From Friday\n",
      "3 2020-05-22 12:45:06-04:00       46 Stocks Moving In Friday's Mid-Day Session\n",
      "4 2020-05-22 11:38:59-04:00  B of A Securities Maintains Neutral on Agilent...\n",
      "        Date     Close\n",
      "0 1980-12-12  0.128348\n",
      "1 1980-12-15  0.121652\n",
      "2 1980-12-16  0.112723\n",
      "3 1980-12-17  0.115513\n",
      "4 1980-12-18  0.118862\n"
     ]
    }
   ],
   "source": [
    "# Convert df_stock 'Date' column to datetime\n",
    "df_stock['Date'] = pd.to_datetime(df_stock['Date'])\n",
    "\n",
    "# Convert df_news 'date' column to datetime and remove timezone info\n",
    "df_news['date'] = pd.to_datetime(df_news['date'])\n",
    "\n",
    "\n",
    "# Display the first few rows of both datasets\n",
    "print(df_news[['date', 'headline']].head())\n",
    "print(df_stock[['Date', 'Close']].head())\n"
   ]
  },
  {
   "cell_type": "markdown",
   "metadata": {},
   "source": [
    "Calculate Daily Stock Returns"
   ]
  },
  {
   "cell_type": "code",
   "execution_count": 148,
   "metadata": {},
   "outputs": [
    {
     "name": "stdout",
     "output_type": "stream",
     "text": [
      "        Date Stock     Close  daily_return\n",
      "0 1980-12-12  AAPL  0.128348           NaN\n",
      "1 1980-12-15  AAPL  0.121652     -0.052171\n",
      "2 1980-12-16  AAPL  0.112723     -0.073398\n",
      "3 1980-12-17  AAPL  0.115513      0.024751\n",
      "4 1980-12-18  AAPL  0.118862      0.028992\n"
     ]
    }
   ],
   "source": [
    "# Ensure stock data is sorted by date\n",
    "df_stock = df_stock.sort_values(by='Date')\n",
    "df_stock['daily_return'] = df_stock.groupby('Stock')['Close'].pct_change()\n",
    "\n",
    "print(df_stock[['Date', 'Stock', 'Close', 'daily_return']].head())"
   ]
  },
  {
   "cell_type": "markdown",
   "metadata": {},
   "source": [
    "Aggregate Sentiments by Date\n"
   ]
  },
  {
   "cell_type": "code",
   "execution_count": 149,
   "metadata": {},
   "outputs": [
    {
     "name": "stdout",
     "output_type": "stream",
     "text": [
      "  Stock       Date  avg_sentiment_score\n",
      "0     A 2020-05-22               0.0480\n",
      "1     A 2020-05-26               0.0000\n",
      "2     A 2020-06-03               0.0000\n",
      "3     A 2020-06-05               0.0000\n",
      "4    AA 2020-05-18               0.8519\n"
     ]
    }
   ],
   "source": [
    "# Group by date and calculate the average sentiment score\n",
    "df_news_daily_sentiment = df_news.groupby(['stock', df_news['date'].dt.date])['sentiment_score'].mean().reset_index()\n",
    "df_news_daily_sentiment.rename(columns={'date': 'Date', 'stock': 'Stock', 'sentiment_score': 'avg_sentiment_score'}, inplace=True)\n",
    "\n",
    "df_news_daily_sentiment['Date'] = pd.to_datetime(df_news_daily_sentiment['Date'])\n",
    "\n",
    "# Display the aggregated sentiment scores\n",
    "print(df_news_daily_sentiment.head())\n"
   ]
  },
  {
   "cell_type": "code",
   "execution_count": 150,
   "metadata": {},
   "outputs": [
    {
     "data": {
      "text/html": [
       "<div>\n",
       "<style scoped>\n",
       "    .dataframe tbody tr th:only-of-type {\n",
       "        vertical-align: middle;\n",
       "    }\n",
       "\n",
       "    .dataframe tbody tr th {\n",
       "        vertical-align: top;\n",
       "    }\n",
       "\n",
       "    .dataframe thead th {\n",
       "        text-align: right;\n",
       "    }\n",
       "</style>\n",
       "<table border=\"1\" class=\"dataframe\">\n",
       "  <thead>\n",
       "    <tr style=\"text-align: right;\">\n",
       "      <th></th>\n",
       "      <th>Date</th>\n",
       "      <th>Stock</th>\n",
       "      <th>daily_return</th>\n",
       "      <th>avg_sentiment_score</th>\n",
       "    </tr>\n",
       "  </thead>\n",
       "  <tbody>\n",
       "    <tr>\n",
       "      <th>0</th>\n",
       "      <td>2020-06-02</td>\n",
       "      <td>NVDA</td>\n",
       "      <td>0.002158</td>\n",
       "      <td>0.220200</td>\n",
       "    </tr>\n",
       "    <tr>\n",
       "      <th>1</th>\n",
       "      <td>2020-06-04</td>\n",
       "      <td>GOOG</td>\n",
       "      <td>-0.016848</td>\n",
       "      <td>0.000000</td>\n",
       "    </tr>\n",
       "    <tr>\n",
       "      <th>2</th>\n",
       "      <td>2020-06-05</td>\n",
       "      <td>GOOG</td>\n",
       "      <td>0.018560</td>\n",
       "      <td>-0.411033</td>\n",
       "    </tr>\n",
       "    <tr>\n",
       "      <th>3</th>\n",
       "      <td>2020-06-08</td>\n",
       "      <td>NVDA</td>\n",
       "      <td>-0.012892</td>\n",
       "      <td>0.168667</td>\n",
       "    </tr>\n",
       "    <tr>\n",
       "      <th>4</th>\n",
       "      <td>2020-06-08</td>\n",
       "      <td>GOOG</td>\n",
       "      <td>0.005715</td>\n",
       "      <td>0.542300</td>\n",
       "    </tr>\n",
       "  </tbody>\n",
       "</table>\n",
       "</div>"
      ],
      "text/plain": [
       "        Date Stock  daily_return  avg_sentiment_score\n",
       "0 2020-06-02  NVDA      0.002158             0.220200\n",
       "1 2020-06-04  GOOG     -0.016848             0.000000\n",
       "2 2020-06-05  GOOG      0.018560            -0.411033\n",
       "3 2020-06-08  NVDA     -0.012892             0.168667\n",
       "4 2020-06-08  GOOG      0.005715             0.542300"
      ]
     },
     "execution_count": 150,
     "metadata": {},
     "output_type": "execute_result"
    }
   ],
   "source": [
    "merged_df = pd.merge(df_stock[['Date', 'Stock', 'daily_return']], df_news_daily_sentiment[['Date', 'Stock', 'avg_sentiment_score']], on=['Date', 'Stock'], how='inner')\n",
    "\n",
    "# Drop rows with missing values (if any)\n",
    "merged_df = merged_df.dropna(subset=['daily_return', 'avg_sentiment_score'])\n",
    "\n",
    "# Verify the merged dataset\n",
    "merged_df.head()\n"
   ]
  },
  {
   "cell_type": "markdown",
   "metadata": {},
   "source": [
    "Create Lagged Sentiment Scores and Lagged Stock Returns"
   ]
  },
  {
   "cell_type": "code",
   "execution_count": 151,
   "metadata": {},
   "outputs": [
    {
     "data": {
      "text/html": [
       "<div>\n",
       "<style scoped>\n",
       "    .dataframe tbody tr th:only-of-type {\n",
       "        vertical-align: middle;\n",
       "    }\n",
       "\n",
       "    .dataframe tbody tr th {\n",
       "        vertical-align: top;\n",
       "    }\n",
       "\n",
       "    .dataframe thead th {\n",
       "        text-align: right;\n",
       "    }\n",
       "</style>\n",
       "<table border=\"1\" class=\"dataframe\">\n",
       "  <thead>\n",
       "    <tr style=\"text-align: right;\">\n",
       "      <th></th>\n",
       "      <th>Date</th>\n",
       "      <th>Stock</th>\n",
       "      <th>daily_return</th>\n",
       "      <th>avg_sentiment_score</th>\n",
       "      <th>lagged_sentiment_score</th>\n",
       "      <th>lagged_daily_return</th>\n",
       "    </tr>\n",
       "  </thead>\n",
       "  <tbody>\n",
       "    <tr>\n",
       "      <th>0</th>\n",
       "      <td>2020-06-02</td>\n",
       "      <td>NVDA</td>\n",
       "      <td>0.002158</td>\n",
       "      <td>0.220200</td>\n",
       "      <td>0.421500</td>\n",
       "      <td>0.000554</td>\n",
       "    </tr>\n",
       "    <tr>\n",
       "      <th>2</th>\n",
       "      <td>2020-06-05</td>\n",
       "      <td>GOOG</td>\n",
       "      <td>0.018560</td>\n",
       "      <td>-0.411033</td>\n",
       "      <td>0.000000</td>\n",
       "      <td>0.023398</td>\n",
       "    </tr>\n",
       "    <tr>\n",
       "      <th>3</th>\n",
       "      <td>2020-06-08</td>\n",
       "      <td>NVDA</td>\n",
       "      <td>-0.012892</td>\n",
       "      <td>0.168667</td>\n",
       "      <td>0.220200</td>\n",
       "      <td>0.019798</td>\n",
       "    </tr>\n",
       "    <tr>\n",
       "      <th>4</th>\n",
       "      <td>2020-06-08</td>\n",
       "      <td>GOOG</td>\n",
       "      <td>0.005715</td>\n",
       "      <td>0.542300</td>\n",
       "      <td>-0.411033</td>\n",
       "      <td>0.016536</td>\n",
       "    </tr>\n",
       "    <tr>\n",
       "      <th>5</th>\n",
       "      <td>2020-06-09</td>\n",
       "      <td>NVDA</td>\n",
       "      <td>0.027371</td>\n",
       "      <td>0.729600</td>\n",
       "      <td>0.168667</td>\n",
       "      <td>0.007645</td>\n",
       "    </tr>\n",
       "  </tbody>\n",
       "</table>\n",
       "</div>"
      ],
      "text/plain": [
       "        Date Stock  daily_return  avg_sentiment_score  lagged_sentiment_score  \\\n",
       "0 2020-06-02  NVDA      0.002158             0.220200                0.421500   \n",
       "2 2020-06-05  GOOG      0.018560            -0.411033                0.000000   \n",
       "3 2020-06-08  NVDA     -0.012892             0.168667                0.220200   \n",
       "4 2020-06-08  GOOG      0.005715             0.542300               -0.411033   \n",
       "5 2020-06-09  NVDA      0.027371             0.729600                0.168667   \n",
       "\n",
       "   lagged_daily_return  \n",
       "0             0.000554  \n",
       "2             0.023398  \n",
       "3             0.019798  \n",
       "4             0.016536  \n",
       "5             0.007645  "
      ]
     },
     "execution_count": 151,
     "metadata": {},
     "output_type": "execute_result"
    }
   ],
   "source": [
    "df_news_daily_sentiment['lagged_sentiment_score'] = df_news_daily_sentiment.groupby('Stock')['avg_sentiment_score'].shift(1)\n",
    "\n",
    "# Merge the lagged sentiment scores with the stock data\n",
    "merged_df = pd.merge(merged_df, df_news_daily_sentiment[['Date', 'Stock', 'lagged_sentiment_score']], \n",
    "                     on=['Date', 'Stock'], how='inner')\n",
    "\n",
    "# Create lagged daily returns (1-day lag)\n",
    "df_stock['lagged_daily_return'] = df_stock['daily_return'].shift(1)\n",
    "merged_df = pd.merge(merged_df, df_stock[['Date', 'Stock', 'lagged_daily_return']], \n",
    "                     on=['Date', 'Stock'], how='inner')\n",
    "\n",
    "# Drop rows with missing values (if any)\n",
    "merged_df = merged_df.dropna(subset=['lagged_daily_return', 'lagged_sentiment_score'])\n",
    "merged_df.head()"
   ]
  },
  {
   "cell_type": "markdown",
   "metadata": {},
   "source": [
    "Correlation Analysis"
   ]
  },
  {
   "cell_type": "code",
   "execution_count": 152,
   "metadata": {},
   "outputs": [
    {
     "name": "stdout",
     "output_type": "stream",
     "text": [
      "Correlation between news sentiment and daily stock returns: 0.1202\n",
      "Correlation between news sentiment and daily stock returns: 0.2644\n"
     ]
    }
   ],
   "source": [
    "# Calculate Pearson correlation coefficient\n",
    "correlation_original = merged_df['daily_return'].corr(merged_df['avg_sentiment_score'])\n",
    "correlation_lagged = merged_df['daily_return'].corr(merged_df['lagged_sentiment_score'])\n",
    "\n",
    "print(f\"Correlation between news sentiment and daily stock returns: {correlation_original:.4f}\")\n",
    "print(f\"Correlation between news sentiment and daily stock returns: {correlation_lagged:.4f}\")\n"
   ]
  },
  {
   "cell_type": "code",
   "execution_count": 153,
   "metadata": {},
   "outputs": [
    {
     "name": "stdout",
     "output_type": "stream",
     "text": [
      "Correlation between daily stock returns and original news sentiment: 0.12024348774824313\n",
      "Correlation between daily stock returns and lagged news sentiment: 0.26437354314759903\n"
     ]
    },
    {
     "data": {
      "image/png": "[encoded data removed]",
      "text/plain": [
       "<Figure size 1400x800 with 2 Axes>"
      ]
     },
     "metadata": {},
     "output_type": "display_data"
    }
   ],
   "source": [
    "# Use both the original and lagged sentiment score for more data points\n",
    "df_news_daily_sentiment['lagged_sentiment_score'] = df_news_daily_sentiment.groupby('Stock')['avg_sentiment_score'].shift(1)\n",
    "\n",
    "# Merge with stock data\n",
    "merged_df = pd.merge(df_stock, df_news_daily_sentiment[['Date', 'Stock', 'avg_sentiment_score', 'lagged_sentiment_score']], on=['Date', 'Stock'], how='inner')\n",
    "\n",
    "# Drop rows with missing values in daily returns, sentiment, or lagged sentiment\n",
    "merged_df = merged_df.dropna(subset=['daily_return', 'avg_sentiment_score', 'lagged_sentiment_score'])\n",
    "\n",
    "# Calculate the correlation between daily stock returns and both sentiment scores\n",
    "correlation_original = merged_df['daily_return'].corr(merged_df['avg_sentiment_score'])\n",
    "correlation_lagged = merged_df['daily_return'].corr(merged_df['lagged_sentiment_score'])\n",
    "\n",
    "print(f\"Correlation between daily stock returns and original news sentiment: {correlation_original}\")\n",
    "print(f\"Correlation between daily stock returns and lagged news sentiment: {correlation_lagged}\")\n",
    "\n",
    "# Plot both original and lagged sentiment score against daily returns\n",
    "\n",
    "plt.figure(figsize=(14, 8))\n",
    "\n",
    "# Plot for original sentiment\n",
    "plt.subplot(1, 2, 1)\n",
    "sns.regplot(x=merged_df['avg_sentiment_score'], y=merged_df['daily_return'], scatter_kws={'color': 'blue'}, line_kws={'color': 'blue'})\n",
    "sns.scatterplot(x=merged_df['avg_sentiment_score'], y=merged_df['daily_return'], color='blue')\n",
    "plt.title('Original News Sentiment vs Daily Stock Return')\n",
    "plt.xlabel('News Sentiment Score')\n",
    "plt.ylabel('Daily Stock Return')\n",
    "plt.grid(True)\n",
    "\n",
    "# Plot for lagged sentiment\n",
    "plt.subplot(1, 2, 2)\n",
    "sns.regplot(x=merged_df['lagged_sentiment_score'], y=merged_df['daily_return'], scatter_kws={'color': 'blue'}, line_kws={'color': 'red'})\n",
    "sns.scatterplot(x=merged_df['lagged_sentiment_score'], y=merged_df['daily_return'], color='red')\n",
    "plt.title('Lagged News Sentiment vs Daily Stock Return')\n",
    "plt.xlabel('Lagged Sentiment Score')\n",
    "plt.ylabel('Daily Stock Return')\n",
    "plt.grid(True)\n",
    "\n",
    "plt.tight_layout()\n",
    "plt.show()\n"
   ]
  }
 ],
 "metadata": {
  "kernelspec": {
   "display_name": ".venv",
   "language": "python",
   "name": "python3"
  },
  "language_info": {
   "codemirror_mode": {
    "name": "ipython",
    "version": 3
   },
   "file_extension": ".py",
   "mimetype": "text/x-python",
   "name": "python",
   "nbconvert_exporter": "python",
   "pygments_lexer": "ipython3",
   "version": "3.12.8"
  }
 },
 "nbformat": 4,
 "nbformat_minor": 2
}
